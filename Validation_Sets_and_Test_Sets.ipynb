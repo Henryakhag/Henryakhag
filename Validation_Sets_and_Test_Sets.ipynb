{
  "nbformat": 4,
  "nbformat_minor": 0,
  "metadata": {
    "colab": {
      "provenance": [],
      "authorship_tag": "ABX9TyPu5MO/0u5Fv4Dg7cZOYzdq",
      "include_colab_link": true
    },
    "kernelspec": {
      "name": "python3",
      "display_name": "Python 3"
    },
    "language_info": {
      "name": "python"
    }
  },
  "cells": [
    {
      "cell_type": "markdown",
      "metadata": {
        "id": "view-in-github",
        "colab_type": "text"
      },
      "source": [
        "<a href=\"https://colab.research.google.com/github/Henryakhag/Henryakhag/blob/main/Validation_Sets_and_Test_Sets.ipynb\" target=\"_parent\"><img src=\"https://colab.research.google.com/assets/colab-badge.svg\" alt=\"Open In Colab\"/></a>"
      ]
    },
    {
      "cell_type": "markdown",
      "source": [
        "Import Relevant Libraries"
      ],
      "metadata": {
        "id": "nzHjSiwg1tDX"
      }
    },
    {
      "cell_type": "code",
      "execution_count": 1,
      "metadata": {
        "id": "3y-V4yCi1Iza"
      },
      "outputs": [],
      "source": [
        "#@title Import modules\n",
        "import numpy as np\n",
        "import pandas as pd\n",
        "import tensorflow as tf\n",
        "from matplotlib import pyplot as plt\n",
        "\n",
        "pd.options.display.max_rows = 10\n",
        "pd.options.display.float_format = \"{:.1f}\".format"
      ]
    },
    {
      "cell_type": "markdown",
      "source": [
        "Load Dataset from Internet"
      ],
      "metadata": {
        "id": "QR-F5cje2oD5"
      }
    },
    {
      "cell_type": "code",
      "source": [
        "train_df = pd.read_csv(\"https://download.mlcc.google.com/mledu-datasets/california_housing_train.csv\")\n",
        "test_df = pd.read_csv(\"https://download.mlcc.google.com/mledu-datasets/california_housing_test.csv\")"
      ],
      "metadata": {
        "id": "Q222pA5z2sE2"
      },
      "execution_count": 2,
      "outputs": []
    },
    {
      "cell_type": "markdown",
      "source": [
        "Scale Label Values"
      ],
      "metadata": {
        "id": "u4qq9mbb238N"
      }
    },
    {
      "cell_type": "code",
      "source": [
        "scale_factor = 1000.0\n",
        "\n",
        "# Scale the training set's label.\n",
        "train_df[\"median_house_value\"] /= scale_factor\n",
        "\n",
        "# Scale the test set's label\n",
        "test_df[\"median_house_value\"] /= scale_factor"
      ],
      "metadata": {
        "id": "6BGUQMEN3Co6"
      },
      "execution_count": 3,
      "outputs": []
    },
    {
      "cell_type": "markdown",
      "source": [
        "Load the functions that build and train a model"
      ],
      "metadata": {
        "id": "GpkUHaBy3TCg"
      }
    },
    {
      "cell_type": "code",
      "source": [
        "#@title Define the functions that build and train a model\n",
        "def build_model(my_learning_rate):\n",
        "  \"\"\"Create and compile a simple linear regression model.\"\"\"\n",
        "  # Most simple tf.keras models are sequential.\n",
        "  model = tf.keras.models.Sequential()\n",
        "\n",
        "  # Add one linear layer to the model to yield a simple linear regressor.\n",
        "  model.add(tf.keras.layers.Dense(units=1, input_shape=(1,)))\n",
        "\n",
        "  # Compile the model topography into code that TensorFlow can efficiently\n",
        "  # execute. Configure training to minimize the model's mean squared error.\n",
        "  model.compile(optimizer=tf.keras.optimizers.experimental.RMSprop(learning_rate=my_learning_rate),\n",
        "                loss=\"mean_squared_error\",\n",
        "                metrics=[tf.keras.metrics.RootMeanSquaredError()])\n",
        "\n",
        "  return model\n",
        "\n",
        "\n",
        "def train_model(model, df, feature, label, my_epochs,\n",
        "                my_batch_size=None, my_validation_split=0.1):\n",
        "  \"\"\"Feed a dataset into the model in order to train it.\"\"\"\n",
        "\n",
        "  history = model.fit(x=df[feature],\n",
        "                      y=df[label],\n",
        "                      batch_size=my_batch_size,\n",
        "                      epochs=my_epochs,\n",
        "                      validation_split=my_validation_split)\n",
        "\n",
        "  # Gather the model's trained weight and bias.\n",
        "  trained_weight = model.get_weights()[0]\n",
        "  trained_bias = model.get_weights()[1]\n",
        "\n",
        "  # The list of epochs is stored separately from the\n",
        "  # rest of history.\n",
        "  epochs = history.epoch\n",
        "\n",
        "  # Isolate the root mean squared error for each epoch.\n",
        "  hist = pd.DataFrame(history.history)\n",
        "  rmse = hist[\"root_mean_squared_error\"]\n",
        "\n",
        "  return epochs, rmse, history.history\n",
        "\n",
        "print(\"Defined the build_model and train_model functions.\")"
      ],
      "metadata": {
        "colab": {
          "base_uri": "https://localhost:8080/"
        },
        "id": "SboOMMJs3Vaa",
        "outputId": "e0692b93-4cb5-49e2-c7da-c7fde1ff4f09"
      },
      "execution_count": 4,
      "outputs": [
        {
          "output_type": "stream",
          "name": "stdout",
          "text": [
            "Defined the build_model and train_model functions.\n"
          ]
        }
      ]
    },
    {
      "cell_type": "markdown",
      "source": [
        "Define plotting functions"
      ],
      "metadata": {
        "id": "8FKG3SD-3qKZ"
      }
    },
    {
      "cell_type": "code",
      "source": [
        "#@title Define the plotting function\n",
        "\n",
        "def plot_the_loss_curve(epochs, mae_training, mae_validation):\n",
        "  \"\"\"Plot a curve of loss vs. epoch.\"\"\"\n",
        "\n",
        "  plt.figure()\n",
        "  plt.xlabel(\"Epoch\")\n",
        "  plt.ylabel(\"Root Mean Squared Error\")\n",
        "\n",
        "  plt.plot(epochs[1:], mae_training[1:], label=\"Training Loss\")\n",
        "  plt.plot(epochs[1:], mae_validation[1:], label=\"Validation Loss\")\n",
        "  plt.legend()\n",
        "\n",
        "  # We're not going to plot the first epoch, since the loss on the first epoch\n",
        "  # is often substantially greater than the loss for other epochs.\n",
        "  merged_mae_lists = mae_training[1:] + mae_validation[1:]\n",
        "  highest_loss = max(merged_mae_lists)\n",
        "  lowest_loss = min(merged_mae_lists)\n",
        "  delta = highest_loss - lowest_loss\n",
        "  print(delta)\n",
        "\n",
        "  top_of_y_axis = highest_loss + (delta * 0.05)\n",
        "  bottom_of_y_axis = lowest_loss - (delta * 0.05)\n",
        "\n",
        "  plt.ylim([bottom_of_y_axis, top_of_y_axis])\n",
        "  plt.show()\n",
        "\n",
        "print(\"Defined the plot_the_loss_curve function.\")"
      ],
      "metadata": {
        "colab": {
          "base_uri": "https://localhost:8080/"
        },
        "id": "DBZh5kH53rZL",
        "outputId": "73deebe1-76f6-4e3e-8359-bfb520c92247"
      },
      "execution_count": 5,
      "outputs": [
        {
          "output_type": "stream",
          "name": "stdout",
          "text": [
            "Defined the plot_the_loss_curve function.\n"
          ]
        }
      ]
    },
    {
      "cell_type": "markdown",
      "source": [
        "Experiment with the validation split\n",
        "\n",
        "In the following code cell, you'll see a variable named validation_split, which we've initialized at 0.2. The validation_split variable specifies the proportion of the original training set that will serve as the validation set. The original training set contains 17,000 examples. Therefore, a validation_split of 0.2 means that:\n",
        "\n",
        "17,000 * 0.2 ~= 3,400 examples will become the validation set.\n",
        "17,000 * 0.8 ~= 13,600 examples will become the new training set.\n",
        "The following code builds a model, trains it on the training set, and evaluates the built model on both:\n",
        "\n",
        "The training set.\n",
        "And the validation set.\n",
        "If the data in the training set is similar to the data in the validation set, then the two loss curves and the final loss values should be almost identical. However, the loss curves and final loss values are not almost identical. Hmm, that's odd.\n",
        "\n",
        "Experiment with two or three different values of validation_split. Do different values of validation_split fix the problem?"
      ],
      "metadata": {
        "id": "l1RBxATK315k"
      }
    },
    {
      "cell_type": "code",
      "source": [
        "# The following variables are the hyperparameters.\n",
        "learning_rate = 0.08\n",
        "epochs = 30\n",
        "batch_size = 100\n",
        "\n",
        "# Split the original training set into a reduced training set and a\n",
        "# validation set.\n",
        "validation_split = 0.2\n",
        "\n",
        "# Identify the feature and the label.\n",
        "my_feature = \"median_income\"    # the median income on a specific city block.\n",
        "my_label = \"median_house_value\" # the median house value on a specific city block.\n",
        "# That is, you're going to create a model that predicts house value based\n",
        "# solely on the neighborhood's median income.\n",
        "\n",
        "# Invoke the functions to build and train the model.\n",
        "my_model = build_model(learning_rate)\n",
        "epochs, rmse, history = train_model(my_model, train_df, my_feature,\n",
        "                                    my_label, epochs, batch_size,\n",
        "                                    validation_split)\n",
        "\n",
        "plot_the_loss_curve(epochs, history[\"root_mean_squared_error\"],\n",
        "                    history[\"val_root_mean_squared_error\"])"
      ],
      "metadata": {
        "colab": {
          "base_uri": "https://localhost:8080/",
          "height": 1000
        },
        "id": "bUGZFV2h4J73",
        "outputId": "8abba485-cd37-44d9-d510-60bd55c19d9e"
      },
      "execution_count": 6,
      "outputs": [
        {
          "output_type": "stream",
          "name": "stdout",
          "text": [
            "Epoch 1/30\n",
            "136/136 [==============================] - 1s 2ms/step - loss: 40227.5195 - root_mean_squared_error: 200.5680 - val_loss: 48847.8672 - val_root_mean_squared_error: 221.0155\n",
            "Epoch 2/30\n",
            "136/136 [==============================] - 0s 1ms/step - loss: 23255.8711 - root_mean_squared_error: 152.4988 - val_loss: 28618.7559 - val_root_mean_squared_error: 169.1708\n",
            "Epoch 3/30\n",
            "136/136 [==============================] - 0s 1ms/step - loss: 12307.7285 - root_mean_squared_error: 110.9402 - val_loss: 15513.7031 - val_root_mean_squared_error: 124.5540\n",
            "Epoch 4/30\n",
            "136/136 [==============================] - 0s 1ms/step - loss: 7280.6011 - root_mean_squared_error: 85.3264 - val_loss: 9560.1768 - val_root_mean_squared_error: 97.7762\n",
            "Epoch 5/30\n",
            "136/136 [==============================] - 0s 1ms/step - loss: 6513.5259 - root_mean_squared_error: 80.7064 - val_loss: 9261.5293 - val_root_mean_squared_error: 96.2368\n",
            "Epoch 6/30\n",
            "136/136 [==============================] - 0s 1ms/step - loss: 6513.6929 - root_mean_squared_error: 80.7075 - val_loss: 9262.3076 - val_root_mean_squared_error: 96.2409\n",
            "Epoch 7/30\n",
            "136/136 [==============================] - 0s 1ms/step - loss: 6513.9546 - root_mean_squared_error: 80.7091 - val_loss: 9293.8203 - val_root_mean_squared_error: 96.4045\n",
            "Epoch 8/30\n",
            "136/136 [==============================] - 0s 1ms/step - loss: 6513.0649 - root_mean_squared_error: 80.7036 - val_loss: 9123.1641 - val_root_mean_squared_error: 95.5153\n",
            "Epoch 9/30\n",
            "136/136 [==============================] - 0s 1ms/step - loss: 6514.3281 - root_mean_squared_error: 80.7114 - val_loss: 9313.3555 - val_root_mean_squared_error: 96.5057\n",
            "Epoch 10/30\n",
            "136/136 [==============================] - 0s 1ms/step - loss: 6514.2090 - root_mean_squared_error: 80.7106 - val_loss: 9306.9561 - val_root_mean_squared_error: 96.4726\n",
            "Epoch 11/30\n",
            "136/136 [==============================] - 0s 1ms/step - loss: 6512.9683 - root_mean_squared_error: 80.7030 - val_loss: 9213.7773 - val_root_mean_squared_error: 95.9884\n",
            "Epoch 12/30\n",
            "136/136 [==============================] - 0s 1ms/step - loss: 6514.2949 - root_mean_squared_error: 80.7112 - val_loss: 9321.7422 - val_root_mean_squared_error: 96.5492\n",
            "Epoch 13/30\n",
            "136/136 [==============================] - 0s 1ms/step - loss: 6511.5781 - root_mean_squared_error: 80.6944 - val_loss: 9049.8184 - val_root_mean_squared_error: 95.1305\n",
            "Epoch 14/30\n",
            "136/136 [==============================] - 0s 1ms/step - loss: 6513.3574 - root_mean_squared_error: 80.7054 - val_loss: 9362.8457 - val_root_mean_squared_error: 96.7618\n",
            "Epoch 15/30\n",
            "136/136 [==============================] - 0s 2ms/step - loss: 6513.2925 - root_mean_squared_error: 80.7050 - val_loss: 9375.1758 - val_root_mean_squared_error: 96.8255\n",
            "Epoch 16/30\n",
            "136/136 [==============================] - 0s 2ms/step - loss: 6514.0601 - root_mean_squared_error: 80.7097 - val_loss: 9326.2578 - val_root_mean_squared_error: 96.5726\n",
            "Epoch 17/30\n",
            "136/136 [==============================] - 0s 2ms/step - loss: 6513.8081 - root_mean_squared_error: 80.7082 - val_loss: 9333.4414 - val_root_mean_squared_error: 96.6097\n",
            "Epoch 18/30\n",
            "136/136 [==============================] - 0s 1ms/step - loss: 6513.4282 - root_mean_squared_error: 80.7058 - val_loss: 9230.7109 - val_root_mean_squared_error: 96.0766\n",
            "Epoch 19/30\n",
            "136/136 [==============================] - 0s 2ms/step - loss: 6513.6636 - root_mean_squared_error: 80.7073 - val_loss: 9234.2881 - val_root_mean_squared_error: 96.0952\n",
            "Epoch 20/30\n",
            "136/136 [==============================] - 0s 2ms/step - loss: 6513.5142 - root_mean_squared_error: 80.7063 - val_loss: 9316.7002 - val_root_mean_squared_error: 96.5231\n",
            "Epoch 21/30\n",
            "136/136 [==============================] - 0s 2ms/step - loss: 6513.9966 - root_mean_squared_error: 80.7093 - val_loss: 9310.6270 - val_root_mean_squared_error: 96.4916\n",
            "Epoch 22/30\n",
            "136/136 [==============================] - 0s 2ms/step - loss: 6513.0229 - root_mean_squared_error: 80.7033 - val_loss: 9372.4961 - val_root_mean_squared_error: 96.8117\n",
            "Epoch 23/30\n",
            "136/136 [==============================] - 0s 1ms/step - loss: 6511.9570 - root_mean_squared_error: 80.6967 - val_loss: 9123.7871 - val_root_mean_squared_error: 95.5185\n",
            "Epoch 24/30\n",
            "136/136 [==============================] - 0s 1ms/step - loss: 6513.9731 - root_mean_squared_error: 80.7092 - val_loss: 9209.9150 - val_root_mean_squared_error: 95.9683\n",
            "Epoch 25/30\n",
            "136/136 [==============================] - 0s 1ms/step - loss: 6513.2520 - root_mean_squared_error: 80.7047 - val_loss: 9138.0107 - val_root_mean_squared_error: 95.5929\n",
            "Epoch 26/30\n",
            "136/136 [==============================] - 0s 1ms/step - loss: 6513.6602 - root_mean_squared_error: 80.7073 - val_loss: 9289.4414 - val_root_mean_squared_error: 96.3818\n",
            "Epoch 27/30\n",
            "136/136 [==============================] - 0s 1ms/step - loss: 6513.2949 - root_mean_squared_error: 80.7050 - val_loss: 9358.8730 - val_root_mean_squared_error: 96.7413\n",
            "Epoch 28/30\n",
            "136/136 [==============================] - 0s 1ms/step - loss: 6513.2529 - root_mean_squared_error: 80.7047 - val_loss: 9209.1738 - val_root_mean_squared_error: 95.9644\n",
            "Epoch 29/30\n",
            "136/136 [==============================] - 0s 1ms/step - loss: 6513.3477 - root_mean_squared_error: 80.7053 - val_loss: 9317.2852 - val_root_mean_squared_error: 96.5261\n",
            "Epoch 30/30\n",
            "136/136 [==============================] - 0s 1ms/step - loss: 6513.3242 - root_mean_squared_error: 80.7052 - val_loss: 9221.4912 - val_root_mean_squared_error: 96.0286\n",
            "88.47643280029297\n"
          ]
        },
        {
          "output_type": "display_data",
          "data": {
            "text/plain": [
              "<Figure size 640x480 with 1 Axes>"
            ],
            "image/png": "[encoded data removed]"
          },
          "metadata": {}
        }
      ]
    },
    {
      "cell_type": "markdown",
      "source": [
        "Determine why the loss curves differ\n",
        "No matter how you split the training set and the validation set, the loss curves differ significantly. Evidently, the data in the training set isn't similar enough to the data in the validation set. Counterintuitive? Yes, but this problem is actually pretty common in machine learning.\n",
        "\n",
        "Your task is to determine why the loss curves aren't highly similar. As with most issues in machine learning, the problem is rooted in the data itself. To solve this mystery of why the training set and validation set aren't almost identical, write a line or two of pandas code in the following code cell. Here are a couple of hints:\n",
        "\n",
        "The previous code cell split the original training set into:\n",
        "a reduced training set (the original training set - the validation set)\n",
        "the validation set\n",
        "By default, the pandas head method outputs the first 5 rows of the DataFrame. To see more of the training set, specify the n argument to head and assign a large positive integer to n."
      ],
      "metadata": {
        "id": "9s0Fxd554bPb"
      }
    },
    {
      "cell_type": "markdown",
      "source": [
        "Fix the problem\n",
        "To fix the problem, shuffle the examples in the training set before splitting the examples into a training set and validation set. To do so, take the following steps:\n",
        "\n",
        "Shuffle the data in the training set by adding the following line anywhere before you call train_model (in the code cell associated with Task 1):\n",
        "  shuffled_train_df = train_df.reindex(np.random.permutation(train_df.index))\n",
        "Pass shuffled_train_df (instead of train_df) as the second argument to train_model (in the code call associated with Task 1) so that the call becomes as follows:\n",
        "  epochs, rmse, history = train_model(my_model, shuffled_train_df, my_feature,\n",
        "                                      my_label, epochs, batch_size,\n",
        "                                      validation_split)"
      ],
      "metadata": {
        "id": "mS05J6VB5VBn"
      }
    },
    {
      "cell_type": "code",
      "source": [
        "#@title Double-click to view the complete implementation.\n",
        "\n",
        "# The following variables are the hyperparameters.\n",
        "learning_rate = 0.08\n",
        "epochs = 70\n",
        "batch_size = 100\n",
        "\n",
        "# Split the original training set into a reduced training set and a\n",
        "# validation set.\n",
        "validation_split = 0.2\n",
        "\n",
        "# Identify the feature and the label.\n",
        "my_feature = \"median_income\"    # the median income on a specific city block.\n",
        "my_label = \"median_house_value\" # the median house value on a specific city block.\n",
        "# That is, you're going to create a model that predicts house value based\n",
        "# solely on the neighborhood's median income.\n",
        "\n",
        "# Shuffle the examples.\n",
        "shuffled_train_df = train_df.reindex(np.random.permutation(train_df.index))\n",
        "\n",
        "# Invoke the functions to build and train the model. Train on the shuffled\n",
        "# training set.\n",
        "my_model = build_model(learning_rate)\n",
        "epochs, rmse, history = train_model(my_model, shuffled_train_df, my_feature,\n",
        "                                    my_label, epochs, batch_size,\n",
        "                                    validation_split)\n",
        "\n",
        "plot_the_loss_curve(epochs, history[\"root_mean_squared_error\"],\n",
        "                    history[\"val_root_mean_squared_error\"])"
      ],
      "metadata": {
        "colab": {
          "base_uri": "https://localhost:8080/",
          "height": 1000
        },
        "id": "Mggv2MhJ5eeV",
        "outputId": "f44dfa4f-e3c7-40dc-b53e-317244164ac0"
      },
      "execution_count": 7,
      "outputs": [
        {
          "output_type": "stream",
          "name": "stdout",
          "text": [
            "Epoch 1/70\n",
            "136/136 [==============================] - 0s 2ms/step - loss: 44186.4414 - root_mean_squared_error: 210.2057 - val_loss: 32917.3477 - val_root_mean_squared_error: 181.4314\n",
            "Epoch 2/70\n",
            "136/136 [==============================] - 0s 1ms/step - loss: 25885.4160 - root_mean_squared_error: 160.8895 - val_loss: 18159.0898 - val_root_mean_squared_error: 134.7557\n",
            "Epoch 3/70\n",
            "136/136 [==============================] - 0s 1ms/step - loss: 13936.9463 - root_mean_squared_error: 118.0548 - val_loss: 9547.5938 - val_root_mean_squared_error: 97.7118\n",
            "Epoch 4/70\n",
            "136/136 [==============================] - 0s 1ms/step - loss: 8123.2812 - root_mean_squared_error: 90.1292 - val_loss: 6745.0835 - val_root_mean_squared_error: 82.1285\n",
            "Epoch 5/70\n",
            "136/136 [==============================] - 0s 2ms/step - loss: 7099.2827 - root_mean_squared_error: 84.2572 - val_loss: 6699.1440 - val_root_mean_squared_error: 81.8483\n",
            "Epoch 6/70\n",
            "136/136 [==============================] - 0s 1ms/step - loss: 7094.2793 - root_mean_squared_error: 84.2276 - val_loss: 6700.1299 - val_root_mean_squared_error: 81.8543\n",
            "Epoch 7/70\n",
            "136/136 [==============================] - 0s 2ms/step - loss: 7093.4961 - root_mean_squared_error: 84.2229 - val_loss: 6698.7109 - val_root_mean_squared_error: 81.8456\n",
            "Epoch 8/70\n",
            "136/136 [==============================] - 0s 1ms/step - loss: 7093.9502 - root_mean_squared_error: 84.2256 - val_loss: 6699.3481 - val_root_mean_squared_error: 81.8495\n",
            "Epoch 9/70\n",
            "136/136 [==============================] - 0s 1ms/step - loss: 7094.2607 - root_mean_squared_error: 84.2274 - val_loss: 6700.5981 - val_root_mean_squared_error: 81.8572\n",
            "Epoch 10/70\n",
            "136/136 [==============================] - 0s 2ms/step - loss: 7093.6196 - root_mean_squared_error: 84.2236 - val_loss: 6698.5869 - val_root_mean_squared_error: 81.8449\n",
            "Epoch 11/70\n",
            "136/136 [==============================] - 0s 1ms/step - loss: 7093.5327 - root_mean_squared_error: 84.2231 - val_loss: 6699.5352 - val_root_mean_squared_error: 81.8507\n",
            "Epoch 12/70\n",
            "136/136 [==============================] - 0s 1ms/step - loss: 7092.9341 - root_mean_squared_error: 84.2196 - val_loss: 6706.8071 - val_root_mean_squared_error: 81.8951\n",
            "Epoch 13/70\n",
            "136/136 [==============================] - 0s 1ms/step - loss: 7094.8247 - root_mean_squared_error: 84.2308 - val_loss: 6698.5864 - val_root_mean_squared_error: 81.8449\n",
            "Epoch 14/70\n",
            "136/136 [==============================] - 0s 1ms/step - loss: 7092.4131 - root_mean_squared_error: 84.2165 - val_loss: 6701.3311 - val_root_mean_squared_error: 81.8617\n",
            "Epoch 15/70\n",
            "136/136 [==============================] - 0s 1ms/step - loss: 7094.5205 - root_mean_squared_error: 84.2290 - val_loss: 6698.5723 - val_root_mean_squared_error: 81.8448\n",
            "Epoch 16/70\n",
            "136/136 [==============================] - 0s 1ms/step - loss: 7094.4771 - root_mean_squared_error: 84.2287 - val_loss: 6698.7178 - val_root_mean_squared_error: 81.8457\n",
            "Epoch 17/70\n",
            "136/136 [==============================] - 0s 1ms/step - loss: 7092.4980 - root_mean_squared_error: 84.2170 - val_loss: 6702.1118 - val_root_mean_squared_error: 81.8664\n",
            "Epoch 18/70\n",
            "136/136 [==============================] - 0s 1ms/step - loss: 7094.6621 - root_mean_squared_error: 84.2298 - val_loss: 6700.7065 - val_root_mean_squared_error: 81.8578\n",
            "Epoch 19/70\n",
            "136/136 [==============================] - 0s 1ms/step - loss: 7092.8687 - root_mean_squared_error: 84.2192 - val_loss: 6701.2998 - val_root_mean_squared_error: 81.8615\n",
            "Epoch 20/70\n",
            "136/136 [==============================] - 0s 2ms/step - loss: 7093.6724 - root_mean_squared_error: 84.2239 - val_loss: 6701.7217 - val_root_mean_squared_error: 81.8640\n",
            "Epoch 21/70\n",
            "136/136 [==============================] - 0s 2ms/step - loss: 7093.8804 - root_mean_squared_error: 84.2252 - val_loss: 6698.9253 - val_root_mean_squared_error: 81.8470\n",
            "Epoch 22/70\n",
            "136/136 [==============================] - 0s 2ms/step - loss: 7093.7388 - root_mean_squared_error: 84.2243 - val_loss: 6699.0649 - val_root_mean_squared_error: 81.8478\n",
            "Epoch 23/70\n",
            "136/136 [==============================] - 0s 2ms/step - loss: 7094.0068 - root_mean_squared_error: 84.2259 - val_loss: 6698.8296 - val_root_mean_squared_error: 81.8464\n",
            "Epoch 24/70\n",
            "136/136 [==============================] - 0s 1ms/step - loss: 7092.7788 - root_mean_squared_error: 84.2186 - val_loss: 6698.8677 - val_root_mean_squared_error: 81.8466\n",
            "Epoch 25/70\n",
            "136/136 [==============================] - 0s 2ms/step - loss: 7093.9673 - root_mean_squared_error: 84.2257 - val_loss: 6699.0229 - val_root_mean_squared_error: 81.8476\n",
            "Epoch 26/70\n",
            "136/136 [==============================] - 0s 2ms/step - loss: 7093.8774 - root_mean_squared_error: 84.2252 - val_loss: 6700.0630 - val_root_mean_squared_error: 81.8539\n",
            "Epoch 27/70\n",
            "136/136 [==============================] - 0s 2ms/step - loss: 7092.3916 - root_mean_squared_error: 84.2163 - val_loss: 6701.4580 - val_root_mean_squared_error: 81.8624\n",
            "Epoch 28/70\n",
            "136/136 [==============================] - 0s 1ms/step - loss: 7092.3037 - root_mean_squared_error: 84.2158 - val_loss: 6698.7368 - val_root_mean_squared_error: 81.8458\n",
            "Epoch 29/70\n",
            "136/136 [==============================] - 0s 1ms/step - loss: 7094.1904 - root_mean_squared_error: 84.2270 - val_loss: 6698.7563 - val_root_mean_squared_error: 81.8459\n",
            "Epoch 30/70\n",
            "136/136 [==============================] - 0s 1ms/step - loss: 7094.7095 - root_mean_squared_error: 84.2301 - val_loss: 6699.0879 - val_root_mean_squared_error: 81.8480\n",
            "Epoch 31/70\n",
            "136/136 [==============================] - 0s 2ms/step - loss: 7094.3135 - root_mean_squared_error: 84.2277 - val_loss: 6699.1582 - val_root_mean_squared_error: 81.8484\n",
            "Epoch 32/70\n",
            "136/136 [==============================] - 0s 2ms/step - loss: 7093.5063 - root_mean_squared_error: 84.2230 - val_loss: 6700.0713 - val_root_mean_squared_error: 81.8540\n",
            "Epoch 33/70\n",
            "136/136 [==============================] - 0s 1ms/step - loss: 7094.3765 - root_mean_squared_error: 84.2281 - val_loss: 6698.9951 - val_root_mean_squared_error: 81.8474\n",
            "Epoch 34/70\n",
            "136/136 [==============================] - 0s 1ms/step - loss: 7094.1577 - root_mean_squared_error: 84.2268 - val_loss: 6699.9258 - val_root_mean_squared_error: 81.8531\n",
            "Epoch 35/70\n",
            "136/136 [==============================] - 0s 2ms/step - loss: 7094.1870 - root_mean_squared_error: 84.2270 - val_loss: 6698.3628 - val_root_mean_squared_error: 81.8435\n",
            "Epoch 36/70\n",
            "136/136 [==============================] - 0s 2ms/step - loss: 7095.0171 - root_mean_squared_error: 84.2319 - val_loss: 6698.4043 - val_root_mean_squared_error: 81.8438\n",
            "Epoch 37/70\n",
            "136/136 [==============================] - 0s 1ms/step - loss: 7094.5337 - root_mean_squared_error: 84.2291 - val_loss: 6698.5005 - val_root_mean_squared_error: 81.8444\n",
            "Epoch 38/70\n",
            "136/136 [==============================] - 0s 1ms/step - loss: 7092.6099 - root_mean_squared_error: 84.2176 - val_loss: 6700.7920 - val_root_mean_squared_error: 81.8584\n",
            "Epoch 39/70\n",
            "136/136 [==============================] - 0s 1ms/step - loss: 7093.5815 - root_mean_squared_error: 84.2234 - val_loss: 6698.8857 - val_root_mean_squared_error: 81.8467\n",
            "Epoch 40/70\n",
            "136/136 [==============================] - 0s 1ms/step - loss: 7094.0737 - root_mean_squared_error: 84.2263 - val_loss: 6698.5513 - val_root_mean_squared_error: 81.8447\n",
            "Epoch 41/70\n",
            "136/136 [==============================] - 0s 1ms/step - loss: 7093.4077 - root_mean_squared_error: 84.2224 - val_loss: 6698.3247 - val_root_mean_squared_error: 81.8433\n",
            "Epoch 42/70\n",
            "136/136 [==============================] - 0s 1ms/step - loss: 7094.1030 - root_mean_squared_error: 84.2265 - val_loss: 6699.5151 - val_root_mean_squared_error: 81.8506\n",
            "Epoch 43/70\n",
            "136/136 [==============================] - 0s 1ms/step - loss: 7094.4917 - root_mean_squared_error: 84.2288 - val_loss: 6698.5400 - val_root_mean_squared_error: 81.8446\n",
            "Epoch 44/70\n",
            "136/136 [==============================] - 0s 1ms/step - loss: 7093.6592 - root_mean_squared_error: 84.2239 - val_loss: 6698.5522 - val_root_mean_squared_error: 81.8447\n",
            "Epoch 45/70\n",
            "136/136 [==============================] - 0s 1ms/step - loss: 7093.4185 - root_mean_squared_error: 84.2224 - val_loss: 6699.5405 - val_root_mean_squared_error: 81.8507\n",
            "Epoch 46/70\n",
            "136/136 [==============================] - 0s 2ms/step - loss: 7094.7817 - root_mean_squared_error: 84.2305 - val_loss: 6699.1118 - val_root_mean_squared_error: 81.8481\n",
            "Epoch 47/70\n",
            "136/136 [==============================] - 0s 1ms/step - loss: 7094.2124 - root_mean_squared_error: 84.2271 - val_loss: 6699.1323 - val_root_mean_squared_error: 81.8482\n",
            "Epoch 48/70\n",
            "136/136 [==============================] - 0s 1ms/step - loss: 7093.5776 - root_mean_squared_error: 84.2234 - val_loss: 6698.9766 - val_root_mean_squared_error: 81.8473\n",
            "Epoch 49/70\n",
            "136/136 [==============================] - 0s 1ms/step - loss: 7094.0483 - root_mean_squared_error: 84.2262 - val_loss: 6699.3887 - val_root_mean_squared_error: 81.8498\n",
            "Epoch 50/70\n",
            "136/136 [==============================] - 0s 1ms/step - loss: 7093.9541 - root_mean_squared_error: 84.2256 - val_loss: 6699.1812 - val_root_mean_squared_error: 81.8485\n",
            "Epoch 51/70\n",
            "136/136 [==============================] - 0s 1ms/step - loss: 7094.5254 - root_mean_squared_error: 84.2290 - val_loss: 6699.0742 - val_root_mean_squared_error: 81.8479\n",
            "Epoch 52/70\n",
            "136/136 [==============================] - 0s 1ms/step - loss: 7091.9609 - root_mean_squared_error: 84.2138 - val_loss: 6699.5801 - val_root_mean_squared_error: 81.8510\n",
            "Epoch 53/70\n",
            "136/136 [==============================] - 0s 1ms/step - loss: 7092.3574 - root_mean_squared_error: 84.2161 - val_loss: 6698.8154 - val_root_mean_squared_error: 81.8463\n",
            "Epoch 54/70\n",
            "136/136 [==============================] - 0s 1ms/step - loss: 7092.9390 - root_mean_squared_error: 84.2196 - val_loss: 6702.1348 - val_root_mean_squared_error: 81.8666\n",
            "Epoch 55/70\n",
            "136/136 [==============================] - 0s 1ms/step - loss: 7092.7017 - root_mean_squared_error: 84.2182 - val_loss: 6699.5459 - val_root_mean_squared_error: 81.8508\n",
            "Epoch 56/70\n",
            "136/136 [==============================] - 0s 1ms/step - loss: 7093.9077 - root_mean_squared_error: 84.2253 - val_loss: 6701.0146 - val_root_mean_squared_error: 81.8597\n",
            "Epoch 57/70\n",
            "136/136 [==============================] - 0s 2ms/step - loss: 7094.9722 - root_mean_squared_error: 84.2317 - val_loss: 6699.5752 - val_root_mean_squared_error: 81.8509\n",
            "Epoch 58/70\n",
            "136/136 [==============================] - 0s 1ms/step - loss: 7093.7925 - root_mean_squared_error: 84.2247 - val_loss: 6699.4131 - val_root_mean_squared_error: 81.8499\n",
            "Epoch 59/70\n",
            "136/136 [==============================] - 0s 1ms/step - loss: 7094.1343 - root_mean_squared_error: 84.2267 - val_loss: 6698.8628 - val_root_mean_squared_error: 81.8466\n",
            "Epoch 60/70\n",
            "136/136 [==============================] - 0s 1ms/step - loss: 7093.9194 - root_mean_squared_error: 84.2254 - val_loss: 6701.2495 - val_root_mean_squared_error: 81.8612\n",
            "Epoch 61/70\n",
            "136/136 [==============================] - 0s 1ms/step - loss: 7095.1743 - root_mean_squared_error: 84.2329 - val_loss: 6698.7241 - val_root_mean_squared_error: 81.8457\n",
            "Epoch 62/70\n",
            "136/136 [==============================] - 0s 2ms/step - loss: 7093.9766 - root_mean_squared_error: 84.2257 - val_loss: 6698.9062 - val_root_mean_squared_error: 81.8468\n",
            "Epoch 63/70\n",
            "136/136 [==============================] - 0s 1ms/step - loss: 7092.5210 - root_mean_squared_error: 84.2171 - val_loss: 6705.4917 - val_root_mean_squared_error: 81.8871\n",
            "Epoch 64/70\n",
            "136/136 [==============================] - 0s 1ms/step - loss: 7094.6987 - root_mean_squared_error: 84.2300 - val_loss: 6699.1963 - val_root_mean_squared_error: 81.8486\n",
            "Epoch 65/70\n",
            "136/136 [==============================] - 0s 1ms/step - loss: 7093.3706 - root_mean_squared_error: 84.2222 - val_loss: 6699.0640 - val_root_mean_squared_error: 81.8478\n",
            "Epoch 66/70\n",
            "136/136 [==============================] - 0s 1ms/step - loss: 7094.3027 - root_mean_squared_error: 84.2277 - val_loss: 6699.2329 - val_root_mean_squared_error: 81.8488\n",
            "Epoch 67/70\n",
            "136/136 [==============================] - 0s 1ms/step - loss: 7093.4829 - root_mean_squared_error: 84.2228 - val_loss: 6699.9111 - val_root_mean_squared_error: 81.8530\n",
            "Epoch 68/70\n",
            "136/136 [==============================] - 0s 1ms/step - loss: 7093.8179 - root_mean_squared_error: 84.2248 - val_loss: 6699.3569 - val_root_mean_squared_error: 81.8496\n",
            "Epoch 69/70\n",
            "136/136 [==============================] - 0s 1ms/step - loss: 7093.4331 - root_mean_squared_error: 84.2225 - val_loss: 6699.3223 - val_root_mean_squared_error: 81.8494\n",
            "Epoch 70/70\n",
            "136/136 [==============================] - 0s 1ms/step - loss: 7093.2847 - root_mean_squared_error: 84.2216 - val_loss: 6699.2183 - val_root_mean_squared_error: 81.8488\n",
            "79.04615783691406\n"
          ]
        },
        {
          "output_type": "display_data",
          "data": {
            "text/plain": [
              "<Figure size 640x480 with 1 Axes>"
            ],
            "image/png": "[encoded data removed]"
          },
          "metadata": {}
        }
      ]
    },
    {
      "cell_type": "markdown",
      "source": [
        "Use the Test Dataset to Evaluate Your Model's Performance\n",
        "\n",
        "The test set usually acts as the ultimate judge of a model's quality. The test set can serve as an impartial judge because its examples haven't been used in training the model. Run the following code cell to evaluate the model with the test set:"
      ],
      "metadata": {
        "id": "LSRTT4W_6r-5"
      }
    },
    {
      "cell_type": "code",
      "source": [
        "x_test = test_df[my_feature]\n",
        "y_test = test_df[my_label]\n",
        "\n",
        "results = my_model.evaluate(x_test, y_test, batch_size=batch_size)"
      ],
      "metadata": {
        "colab": {
          "base_uri": "https://localhost:8080/"
        },
        "id": "7F4q1UVn6yWv",
        "outputId": "dd8c8ab1-3ede-41cf-f003-cf3dac1ed9ff"
      },
      "execution_count": 8,
      "outputs": [
        {
          "output_type": "stream",
          "name": "stdout",
          "text": [
            "30/30 [==============================] - 0s 933us/step - loss: 7012.6025 - root_mean_squared_error: 83.7413\n"
          ]
        }
      ]
    },
    {
      "cell_type": "code",
      "source": [
        "y_test"
      ],
      "metadata": {
        "colab": {
          "base_uri": "https://localhost:8080/"
        },
        "id": "DjZw9X3Z7alm",
        "outputId": "f6db7e94-3843-48ce-ed4d-6ea8303dfa09"
      },
      "execution_count": 9,
      "outputs": [
        {
          "output_type": "execute_result",
          "data": {
            "text/plain": [
              "0      344.7\n",
              "1      176.5\n",
              "2      270.5\n",
              "3      330.0\n",
              "4       81.7\n",
              "        ... \n",
              "2995   225.0\n",
              "2996   237.2\n",
              "2997    62.0\n",
              "2998   162.5\n",
              "2999   500.0\n",
              "Name: median_house_value, Length: 3000, dtype: float64"
            ]
          },
          "metadata": {},
          "execution_count": 9
        }
      ]
    }
  ]
}